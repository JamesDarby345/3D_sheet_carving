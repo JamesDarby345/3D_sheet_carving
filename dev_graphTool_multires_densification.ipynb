{
 "cells": [
  {
   "cell_type": "code",
   "execution_count": 1,
   "metadata": {},
   "outputs": [],
   "source": [
    "import nrrd\n",
    "import numpy as np\n",
    "import os\n",
    "import matplotlib.pyplot as plt\n",
    "from ipywidgets import interact, IntSlider\n",
    "from skimage.segmentation import mark_boundaries\n",
    "import cv2\n",
    "from scipy import ndimage as ndi\n",
    "from helper import *\n",
    "import graph_tool.all as gt\n",
    "import plotly.graph_objects as go\n",
    "import time\n",
    "\n",
    "current_directory = os.getcwd()\n",
    "label_path = f\"{current_directory}/data/label/manual_1_label.nrrd\"\n",
    "raw_data_path = f\"{current_directory}/data/raw/manual_1_raw.nrrd\"\n",
    "\n",
    "mask_data, mask_header = nrrd.read(label_path)\n",
    "raw_data, raw_header = nrrd.read(raw_data_path)"
   ]
  },
  {
   "cell_type": "code",
   "execution_count": 2,
   "metadata": {},
   "outputs": [],
   "source": [
    "#rotate the data for best cut angle and calculate reduced data representations\n",
    "axis = 1 #0 for x, 1 for y and 2 for z\n",
    "k = 1 # number of times to rotate the array\n",
    "mask_data = np.rot90(mask_data, k, axes=(axis, (axis+1)%3))\n",
    "raw_data = np.rot90(raw_data, k, axes=(axis, (axis+1)%3))\n",
    "\n",
    "reduced_mask_data = coarsen_image(mask_data, 3)\n",
    "reduced_raw_data = coarsen_image(raw_data, 3)\n",
    "#[0] is full res, each further index is 2x lower res, 256, 128, 64, 32"
   ]
  },
  {
   "cell_type": "code",
   "execution_count": 3,
   "metadata": {},
   "outputs": [
    {
     "name": "stdout",
     "output_type": "stream",
     "text": [
      "64 64 64\n",
      "Time taken to add vertices to coord_to_vertex: 1.1938362121582031\n",
      "Time taken to add edges to graph: 2.0253918170928955\n",
      "Time taken to add source and sink nodes: 0.08239316940307617\n"
     ]
    }
   ],
   "source": [
    "#create reduced graph\n",
    "res_index = 2\n",
    "rotated_directed_graph, r_src, r_tgt, rotated_weights, x_pos, y_pos, z_pos = create_masked_directed_energy_graph_from_mask(reduced_mask_data[res_index])"
   ]
  },
  {
   "cell_type": "code",
   "execution_count": 4,
   "metadata": {},
   "outputs": [],
   "source": [
    "def calculate_seam_iter(directed_graph, src, tgt, weights, test_size, x_pos, y_pos, z_pos):\n",
    "    # Compute the residual capactiy of the edges\n",
    "    stime = time.time()\n",
    "    res = gt.boykov_kolmogorov_max_flow(directed_graph, src, tgt, weights) #time complexity: edges * vertices^2 * abs(min cut) \n",
    "    print(\"Time taken to calculate max flow boykov:\", time.time()-stime)\n",
    "    # sptime = time.time()\n",
    "    # res = gt.push_relabel_max_flow(directed_graph, src, tgt, weights) #time complexity: vertices^3 <- scales better for our graph\n",
    "    # print(\"Time taken to calculate max flow push relabel:\", time.time()-sptime)\n",
    "    stime = time.time()\n",
    "    #use the residual graph to get the max flow\n",
    "    flow = sum(weights[e] - res[e] for e in tgt.in_edges())\n",
    "    # print(\"The maximum flow from source to sink is:\", flow)\n",
    "    print(\"Time taken to calculate max flow:\", time.time()-stime, \"flow:\", flow)\n",
    "    stime = time.time()\n",
    "    # Determine the minimum cut partition\n",
    "    part = gt.min_st_cut(directed_graph, src, weights, res)\n",
    "    # print(\"The number of vertices in the partiton:\", sum(part))\n",
    "    print(\"Time taken to calculate max flow and min cut:\", time.time()-stime)\n",
    "    # Find the boundary vertices\n",
    "    stime = time.time()\n",
    "    boundary_vertices = find_boundary_vertices(np.array(directed_graph.get_edges()), part)\n",
    "    # print(\"Number of boundary vertices:\", len(boundary_vertices))\n",
    "    print(\"Time taken to calculate seam:\", time.time()-stime)\n",
    "\n",
    "    shape = (test_size, test_size, test_size)\n",
    "\n",
    "    # Convert the boundary vertices to a 3D array\n",
    "    stime = time.time()\n",
    "    boundary_array = boundary_vertices_to_array_masked(boundary_vertices, shape, 'x', x_pos, y_pos, z_pos)\n",
    "    # print(\"Boundary points marked:\", np.sum(boundary_array))\n",
    "    print(\"Time taken to convert boundary vertices to array:\", time.time()-stime)\n",
    "\n",
    "    return boundary_array, flow"
   ]
  },
  {
   "cell_type": "code",
   "execution_count": 5,
   "metadata": {},
   "outputs": [
    {
     "name": "stdout",
     "output_type": "stream",
     "text": [
      "Time taken to calculate max flow boykov: 4.599825143814087\n",
      "Time taken to calculate max flow: 0.041953086853027344 flow: 8848\n",
      "Time taken to calculate max flow and min cut: 0.0896310806274414\n",
      "edges that cross the partition: 1540352\n",
      "boundary vertices: 6523\n",
      "Time taken to calculate seam: 0.01758098602294922\n",
      "Time taken to convert boundary vertices to array: 0.026566267013549805\n",
      "(256, 256, 256)\n"
     ]
    }
   ],
   "source": [
    "boundary_array, flow = calculate_seam_iter(rotated_directed_graph, r_src, r_tgt, rotated_weights, reduced_mask_data[res_index].shape[0], x_pos, y_pos, z_pos)\n",
    "b_arr_up = upscale_and_dilate_3d(boundary_array, upscale_factor=4, dilation_amount=1)\n",
    "print(b_arr_up.shape)"
   ]
  },
  {
   "cell_type": "code",
   "execution_count": 6,
   "metadata": {},
   "outputs": [
    {
     "name": "stdout",
     "output_type": "stream",
     "text": [
      "(256, 256, 256) (256, 256, 256)\n",
      "256 256 256\n",
      "Time taken to add vertices to coord_to_vertex: 2.06321382522583\n",
      "Time taken to add edges to graph: 3.194391965866089\n",
      "Time taken to add source and sink nodes: 1.9652209281921387\n"
     ]
    }
   ],
   "source": [
    "# copying and masking the high res data for masked graph creation\n",
    "res_index = 0\n",
    "masked_array = reduced_mask_data[res_index].copy()\n",
    "print(masked_array.shape, b_arr_up.shape)\n",
    "masked_array[b_arr_up == 0] = -1\n",
    "\n",
    "masked_graph, masked_src, masked_sink, masked_weights, x_pos, y_pos, z_pos = create_masked_directed_energy_graph_from_mask(masked_array)"
   ]
  },
  {
   "cell_type": "code",
   "execution_count": 7,
   "metadata": {},
   "outputs": [
    {
     "name": "stdout",
     "output_type": "stream",
     "text": [
      "463739 2461814 463737 463738\n"
     ]
    },
    {
     "data": {
      "application/vnd.jupyter.widget-view+json": {
       "model_id": "91ae7aed6ca840faa9c54ae789cec879",
       "version_major": 2,
       "version_minor": 0
      },
      "text/plain": [
       "interactive(children=(IntSlider(value=0, description='slice_index', max=255), IntSlider(value=0, description='…"
      ]
     },
     "metadata": {},
     "output_type": "display_data"
    },
    {
     "data": {
      "text/plain": [
       "<function __main__.plot_slice(slice_index, axis=0)>"
      ]
     },
     "execution_count": 7,
     "metadata": {},
     "output_type": "execute_result"
    }
   ],
   "source": [
    "#plot masked array\n",
    "print(masked_graph.num_vertices(), masked_graph.num_edges(), masked_src, masked_sink)\n",
    "res_i = 0\n",
    "def plot_slice(slice_index, axis=0):\n",
    "    plt.figure(figsize=(8, 6))\n",
    "    if axis == 1:\n",
    "        plt.imshow(masked_array[:,slice_index,:])\n",
    "    elif axis == 2:\n",
    "        plt.imshow(masked_array[:,:,slice_index])\n",
    "    else:\n",
    "        plt.imshow(masked_array[slice_index,:,:])\n",
    "    plt.colorbar()\n",
    "    plt.title(f'Slice {slice_index}')\n",
    "    plt.show()\n",
    "\n",
    "# Create a slider to browse through slices\n",
    "interact(plot_slice, slice_index=IntSlider(min=0, max=masked_array.shape[0]-1, step=1, value=0), axis=IntSlider(min=0, max=2, step=1, value=0))"
   ]
  },
  {
   "cell_type": "code",
   "execution_count": 8,
   "metadata": {},
   "outputs": [
    {
     "data": {
      "application/vnd.jupyter.widget-view+json": {
       "model_id": "6213d82a6ddb4ffca047406ecce10e3e",
       "version_major": 2,
       "version_minor": 0
      },
      "text/plain": [
       "interactive(children=(IntSlider(value=0, description='slice_index', max=255), IntSlider(value=0, description='…"
      ]
     },
     "metadata": {},
     "output_type": "display_data"
    },
    {
     "data": {
      "text/plain": [
       "<function __main__.plot_slice(slice_index, axis=0)>"
      ]
     },
     "execution_count": 8,
     "metadata": {},
     "output_type": "execute_result"
    }
   ],
   "source": [
    "#plot label ontop of raw data\n",
    "res_i = 0\n",
    "def plot_slice(slice_index, axis=0):\n",
    "    plt.figure(figsize=(8, 6))\n",
    "    if axis == 1:\n",
    "        plt.imshow(mark_boundaries_color(b_arr_up[:,slice_index,:], reduced_mask_data[res_i][:,slice_index,:]))\n",
    "    elif axis == 2:\n",
    "        plt.imshow(mark_boundaries_color(b_arr_up[:,:,slice_index], reduced_mask_data[res_i][:,:,slice_index]))\n",
    "    else:\n",
    "        plt.imshow(mark_boundaries_color(b_arr_up[slice_index,:,:], reduced_mask_data[res_i][slice_index,:,:]))\n",
    "    plt.colorbar()\n",
    "    plt.title(f'Slice {slice_index}')\n",
    "    plt.show()\n",
    "\n",
    "# Create a slider to browse through slices\n",
    "interact(plot_slice, slice_index=IntSlider(min=0, max=b_arr_up.shape[0]-1, step=1, value=0), axis=IntSlider(min=0, max=2, step=1, value=0))"
   ]
  },
  {
   "cell_type": "code",
   "execution_count": 9,
   "metadata": {},
   "outputs": [
    {
     "name": "stdout",
     "output_type": "stream",
     "text": [
      "Time taken to calculate max flow boykov: 2.7150728702545166\n",
      "Time taken to calculate max flow: 0.6388070583343506 flow: 119257\n",
      "Time taken to calculate max flow and min cut: 5.117893695831299\n",
      "edges that cross the partition: 2461814\n",
      "boundary vertices: 105451\n",
      "Time taken to calculate seam: 0.06766295433044434\n",
      "Time taken to convert boundary vertices to array: 0.44994616508483887\n"
     ]
    }
   ],
   "source": [
    "boundary_array, flow = calculate_seam_iter(masked_graph, masked_src, masked_sink, masked_weights, masked_array.shape[0], x_pos, y_pos, z_pos)"
   ]
  },
  {
   "cell_type": "code",
   "execution_count": 10,
   "metadata": {},
   "outputs": [
    {
     "name": "stdout",
     "output_type": "stream",
     "text": [
      "flow: 119257\n",
      "boundary_array: 65536\n"
     ]
    }
   ],
   "source": [
    "print(\"flow:\", flow)\n",
    "print(\"boundary_array:\", np.sum(boundary_array))"
   ]
  },
  {
   "cell_type": "code",
   "execution_count": 11,
   "metadata": {},
   "outputs": [
    {
     "data": {
      "application/vnd.jupyter.widget-view+json": {
       "model_id": "954591a4e87849109ca388aa0f324aa8",
       "version_major": 2,
       "version_minor": 0
      },
      "text/plain": [
       "interactive(children=(IntSlider(value=0, description='slice_index', max=255), IntSlider(value=0, description='…"
      ]
     },
     "metadata": {},
     "output_type": "display_data"
    },
    {
     "data": {
      "text/plain": [
       "<function __main__.plot_slice(slice_index, axis=0)>"
      ]
     },
     "execution_count": 11,
     "metadata": {},
     "output_type": "execute_result"
    }
   ],
   "source": [
    "#plot full res boundary array\n",
    "def plot_slice(slice_index, axis=0):\n",
    "    plt.figure(figsize=(8, 6))\n",
    "    if axis == 1:\n",
    "        plt.imshow(boundary_array[:,slice_index,:])\n",
    "    elif axis == 2:\n",
    "        plt.imshow(boundary_array[:,:,slice_index])\n",
    "    else:\n",
    "        plt.imshow(boundary_array[slice_index,:,:])\n",
    "    plt.colorbar()\n",
    "    plt.title(f'Slice {slice_index}')\n",
    "    plt.show()\n",
    "\n",
    "# Create a slider to browse through slices\n",
    "interact(plot_slice, slice_index=IntSlider(min=0, max=boundary_array.shape[0]-1, step=1, value=0), axis=IntSlider(min=0, max=2, step=1, value=0))"
   ]
  },
  {
   "cell_type": "code",
   "execution_count": 12,
   "metadata": {},
   "outputs": [
    {
     "data": {
      "application/vnd.jupyter.widget-view+json": {
       "model_id": "d0dec1fe9c504b2eaa73e5a41aa0d772",
       "version_major": 2,
       "version_minor": 0
      },
      "text/plain": [
       "interactive(children=(IntSlider(value=0, description='slice_index', max=255), IntSlider(value=0, description='…"
      ]
     },
     "metadata": {},
     "output_type": "display_data"
    },
    {
     "data": {
      "text/plain": [
       "<function __main__.plot_slice(slice_index, axis=0)>"
      ]
     },
     "execution_count": 12,
     "metadata": {},
     "output_type": "execute_result"
    }
   ],
   "source": [
    "#plot seam ontop of raw data\n",
    "res_i = 0\n",
    "def plot_slice(slice_index, axis=0):\n",
    "    plt.figure(figsize=(8, 6))\n",
    "    if axis == 1:\n",
    "        plt.imshow(mark_boundaries_color(boundary_array[:,slice_index,:], reduced_mask_data[res_i][:,slice_index,:]))\n",
    "    elif axis == 2:\n",
    "        plt.imshow(mark_boundaries_color(boundary_array[:,:,slice_index], reduced_mask_data[res_i][:,:,slice_index]))\n",
    "    else:\n",
    "        plt.imshow(mark_boundaries_color(boundary_array[slice_index,:,:], reduced_mask_data[res_i][slice_index,:,:]))\n",
    "    plt.colorbar()\n",
    "    plt.title(f'Slice {slice_index}')\n",
    "    plt.show()\n",
    "\n",
    "# Create a slider to browse through slices\n",
    "interact(plot_slice, slice_index=IntSlider(min=0, max=b_arr_up.shape[0]-1, step=1, value=0), axis=IntSlider(min=0, max=2, step=1, value=0))"
   ]
  },
  {
   "cell_type": "code",
   "execution_count": 13,
   "metadata": {},
   "outputs": [],
   "source": [
    "def multi_res_seam_iter(res_index, mask_array_data, b_arr_up):\n",
    "    masked_array = mask_array_data[res_index].copy()\n",
    "    masked_array[b_arr_up == 0] = -1\n",
    "    stime= time.time()\n",
    "    directed_graph, src, tgt, weights, x_pos, y_pos, z_pos = create_masked_directed_energy_graph_from_mask(masked_array)\n",
    "    print(f\"Time taken to create graph {res_index}:\", time.time()-stime)\n",
    "    boundary_array, flow = calculate_seam_iter(directed_graph, src, tgt, weights, masked_array.shape[0], x_pos, y_pos, z_pos)\n",
    "    return boundary_array\n",
    "\n",
    "def multi_res_seam_calculation(mask_array_data, res_index=3, upscale_factor=2, dilation_amount=1):\n",
    "    stime= time.time()\n",
    "    directed_graph, src, tgt, weights, x_pos, y_pos, z_pos = create_masked_directed_energy_graph_from_mask(mask_array_data[res_index])\n",
    "    print(f\"Time taken to create graph {res_index}:\", time.time()-stime)\n",
    "    boundary_array, flow = calculate_seam_iter(directed_graph, src, tgt, weights, mask_array_data[res_index].shape[0], x_pos, y_pos, z_pos)\n",
    "    b_arr_up = upscale_and_dilate_3d(boundary_array, upscale_factor=2, dilation_amount=dilation_amount)\n",
    "    for i in range(res_index-1, -1, -1):\n",
    "        boundary_array = multi_res_seam_iter(i, mask_array_data, b_arr_up)\n",
    "        b_arr_up = upscale_and_dilate_3d(boundary_array, upscale_factor=upscale_factor, dilation_amount=dilation_amount)\n",
    "    return boundary_array\n",
    "\n"
   ]
  },
  {
   "cell_type": "code",
   "execution_count": 18,
   "metadata": {},
   "outputs": [
    {
     "name": "stdout",
     "output_type": "stream",
     "text": [
      "64 64 64\n",
      "Time taken to add vertices to coord_to_vertex: 1.2046380043029785\n",
      "Time taken to add edges to graph: 2.0474579334259033\n",
      "Time taken to add source and sink nodes: 0.08918094635009766\n",
      "Time taken to create graph 2: 3.3590247631073\n",
      "Time taken to calculate max flow boykov: 4.213392019271851\n",
      "Time taken to calculate max flow: 0.04012274742126465 flow: 8848\n",
      "Time taken to calculate max flow and min cut: 0.09046030044555664\n",
      "edges that cross the partition: 1540352\n",
      "boundary vertices: 6523\n",
      "Time taken to calculate seam: 0.021227121353149414\n",
      "Time taken to convert boundary vertices to array: 0.026913881301879883\n",
      "128 128 128\n",
      "Time taken to add vertices to coord_to_vertex: 0.13570833206176758\n",
      "Time taken to add edges to graph: 0.09845685958862305\n",
      "Time taken to add source and sink nodes: 0.3834991455078125\n",
      "Time taken to create graph 1: 0.620053768157959\n",
      "Time taken to calculate max flow boykov: 0.14374279975891113\n",
      "Time taken to calculate max flow: 0.15477871894836426 flow: 547000015151\n",
      "Time taken to calculate max flow and min cut: 0.4146850109100342\n",
      "edges that cross the partition: 93421\n",
      "boundary vertices: 11965\n",
      "Time taken to calculate seam: 0.005779266357421875\n",
      "Time taken to convert boundary vertices to array: 0.08422303199768066\n",
      "256 256 256\n",
      "Time taken to add vertices to coord_to_vertex: 0.36406397819519043\n",
      "Time taken to add edges to graph: 0.26845312118530273\n",
      "Time taken to add source and sink nodes: 1.9353289604187012\n",
      "Time taken to create graph 0: 2.573288917541504\n",
      "Time taken to calculate max flow boykov: 1.0903868675231934\n",
      "Time taken to calculate max flow: 0.43284082412719727 flow: 1542200033951\n",
      "Time taken to calculate max flow and min cut: 3.2411351203918457\n",
      "edges that cross the partition: 256555\n",
      "boundary vertices: 44098\n",
      "Time taken to calculate seam: 0.015686988830566406\n",
      "Time taken to convert boundary vertices to array: 0.3292880058288574\n"
     ]
    }
   ],
   "source": [
    "res_index = 2\n",
    "mask_array_data = reduced_mask_data\n",
    "num_seams_to_remove = 1\n",
    "\n",
    "for i in range(num_seams_to_remove):\n",
    "    boundary_array = multi_res_seam_calculation(mask_array_data, res_index, dilation_amount=0)\n",
    "    #TODO: remove seam from mask_array_data"
   ]
  },
  {
   "cell_type": "code",
   "execution_count": 19,
   "metadata": {},
   "outputs": [
    {
     "data": {
      "application/vnd.jupyter.widget-view+json": {
       "model_id": "33fb525713b14b6aa9a803f5a1776d6f",
       "version_major": 2,
       "version_minor": 0
      },
      "text/plain": [
       "interactive(children=(IntSlider(value=0, description='slice_index', max=255), IntSlider(value=0, description='…"
      ]
     },
     "metadata": {},
     "output_type": "display_data"
    },
    {
     "data": {
      "text/plain": [
       "<function __main__.plot_slice(slice_index, axis=0)>"
      ]
     },
     "execution_count": 19,
     "metadata": {},
     "output_type": "execute_result"
    }
   ],
   "source": [
    "#plot boundary array, aka seam to remove\n",
    "res_i = 0\n",
    "def plot_slice(slice_index, axis=0):\n",
    "    plt.figure(figsize=(8, 6))\n",
    "    if axis == 1:\n",
    "        plt.imshow(boundary_array[:,slice_index,:])\n",
    "    elif axis == 2:\n",
    "        plt.imshow(boundary_array[:,:,slice_index])\n",
    "    else:\n",
    "        plt.imshow(boundary_array[slice_index,:,:])\n",
    "    plt.colorbar()\n",
    "    plt.title(f'Slice {slice_index}')\n",
    "    plt.show()\n",
    "\n",
    "# Create a slider to browse through slices\n",
    "interact(plot_slice, slice_index=IntSlider(min=0, max=boundary_array.shape[0]-1, step=1, value=0), axis=IntSlider(min=0, max=2, step=1, value=0))"
   ]
  },
  {
   "cell_type": "code",
   "execution_count": 20,
   "metadata": {},
   "outputs": [
    {
     "data": {
      "application/vnd.jupyter.widget-view+json": {
       "model_id": "5978687ad77446f9bd2a5fab4f3c8ec9",
       "version_major": 2,
       "version_minor": 0
      },
      "text/plain": [
       "interactive(children=(IntSlider(value=0, description='slice_index', max=255), IntSlider(value=0, description='…"
      ]
     },
     "metadata": {},
     "output_type": "display_data"
    },
    {
     "data": {
      "text/plain": [
       "<function __main__.plot_slice(slice_index, axis=0)>"
      ]
     },
     "execution_count": 20,
     "metadata": {},
     "output_type": "execute_result"
    }
   ],
   "source": [
    "#plot seam ontop of mask array\n",
    "res_i = 0\n",
    "def plot_slice(slice_index, axis=0):\n",
    "    plt.figure(figsize=(8, 6))\n",
    "    if axis == 1:\n",
    "        plt.imshow(mark_boundaries_color(boundary_array[:,slice_index,:], reduced_mask_data[res_i][:,slice_index,:]))\n",
    "    elif axis == 2:\n",
    "        plt.imshow(mark_boundaries_color(boundary_array[:,:,slice_index], reduced_mask_data[res_i][:,:,slice_index]))\n",
    "    else:\n",
    "        plt.imshow(mark_boundaries_color(boundary_array[slice_index,:,:], reduced_mask_data[res_i][slice_index,:,:]))\n",
    "    plt.colorbar()\n",
    "    plt.title(f'Slice {slice_index}')\n",
    "    plt.show()\n",
    "\n",
    "# Create a slider to browse through slices\n",
    "interact(plot_slice, slice_index=IntSlider(min=0, max=boundary_array.shape[0]-1, step=1, value=0), axis=IntSlider(min=0, max=2, step=1, value=0))"
   ]
  }
 ],
 "metadata": {
  "kernelspec": {
   "display_name": "3d_sheet_carving",
   "language": "python",
   "name": "python3"
  },
  "language_info": {
   "codemirror_mode": {
    "name": "ipython",
    "version": 3
   },
   "file_extension": ".py",
   "mimetype": "text/x-python",
   "name": "python",
   "nbconvert_exporter": "python",
   "pygments_lexer": "ipython3",
   "version": "3.12.3"
  }
 },
 "nbformat": 4,
 "nbformat_minor": 2
}
