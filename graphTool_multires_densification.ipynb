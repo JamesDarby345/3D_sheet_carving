{
 "cells": [
  {
   "cell_type": "code",
   "execution_count": 1,
   "metadata": {},
   "outputs": [],
   "source": [
    "import nrrd\n",
    "import numpy as np\n",
    "import os\n",
    "import matplotlib.pyplot as plt\n",
    "from ipywidgets import interact, IntSlider\n",
    "from skimage.segmentation import mark_boundaries\n",
    "import cv2\n",
    "from scipy import ndimage as ndi\n",
    "from helper import *\n",
    "import graph_tool.all as gt\n",
    "import plotly.graph_objects as go\n",
    "import time\n",
    "from datetime import datetime\n",
    "\n",
    "\n",
    "current_directory = os.getcwd()\n",
    "filename = \"manual_2\"\n",
    "label_path = f\"{current_directory}/data/label/{filename}_label.nrrd\"\n",
    "raw_data_path = f\"{current_directory}/data/raw/{filename}_raw.nrrd\"\n",
    "\n",
    "mask_data, mask_header = nrrd.read(label_path)\n",
    "raw_data, raw_header = nrrd.read(raw_data_path)"
   ]
  },
  {
   "cell_type": "code",
   "execution_count": 2,
   "metadata": {},
   "outputs": [],
   "source": [
    "#rotate the data for best cut angle and calculate reduced data representations\n",
    "#NOTE: dont rotate manual label 2\n",
    "rotate = False\n",
    "if rotate:\n",
    "    axis = 1 #0 for x, 1 for y and 2 for z\n",
    "    k = 1 # number of times to rotate the array\n",
    "    mask_data = np.rot90(mask_data, k, axes=(axis, (axis+1)%3))\n",
    "    raw_data = np.rot90(raw_data, k, axes=(axis, (axis+1)%3))\n",
    "\n",
    "reduced_mask_data = coarsen_image(mask_data, 3)\n",
    "reduced_raw_data = coarsen_image(raw_data, 3)\n",
    "#[0] is full res, each further index is 2x lower res, 256, 128, 64, 32"
   ]
  },
  {
   "cell_type": "code",
   "execution_count": 9,
   "metadata": {},
   "outputs": [
    {
     "data": {
      "application/vnd.jupyter.widget-view+json": {
       "model_id": "71a5f7d4a57f4b6da6b2b2a5293078bf",
       "version_major": 2,
       "version_minor": 0
      },
      "text/plain": [
       "interactive(children=(IntSlider(value=0, description='slice_index', max=255), IntSlider(value=0, description='…"
      ]
     },
     "metadata": {},
     "output_type": "display_data"
    },
    {
     "data": {
      "text/plain": [
       "<function __main__.plot_slice(slice_index, axis=0)>"
      ]
     },
     "execution_count": 9,
     "metadata": {},
     "output_type": "execute_result"
    }
   ],
   "source": [
    "#visualise data to confirm alignment\n",
    "res_i = 0\n",
    "def plot_slice(slice_index, axis=0):\n",
    "    plt.figure(figsize=(8, 6))\n",
    "    if axis == 1:\n",
    "        plt.imshow(mark_boundaries_color(reduced_raw_data[res_i][:,slice_index,:], reduced_mask_data[res_i][:,slice_index,:]))\n",
    "    elif axis == 2:\n",
    "        plt.imshow(mark_boundaries_color(reduced_raw_data[res_i][:,:,slice_index], reduced_mask_data[res_i][:,:,slice_index]))\n",
    "    else:\n",
    "        plt.imshow(mark_boundaries_color(reduced_raw_data[res_i][slice_index,:,:], reduced_mask_data[res_i][slice_index,:,:]))\n",
    "    plt.colorbar()\n",
    "    plt.title(f'Slice {slice_index}')\n",
    "    plt.show()\n",
    "\n",
    "# Create a slider to browse through slices\n",
    "interact(plot_slice, slice_index=IntSlider(min=0, max=reduced_raw_data[0].shape[0]-1, step=1, value=0), axis=IntSlider(min=0, max=2, step=1, value=0))"
   ]
  },
  {
   "cell_type": "code",
   "execution_count": 7,
   "metadata": {},
   "outputs": [],
   "source": [
    "# Helper functions that are annoying to move to a seperate file\n",
    "def calculate_seam_iter(directed_graph, src, tgt, weights, test_size, x_pos, y_pos, z_pos):\n",
    "    # Compute the residual capactiy of the edges\n",
    "    # stime = time.time()\n",
    "    res = gt.boykov_kolmogorov_max_flow(directed_graph, src, tgt, weights) #time complexity: edges * vertices^2 * abs(min cut) \n",
    "    # print(\"Time taken to calculate max flow boykov:\", time.time()-stime)\n",
    "    # sptime = time.time()\n",
    "    # res = gt.push_relabel_max_flow(directed_graph, src, tgt, weights) #time complexity: vertices^3 <- scales better for our graph\n",
    "    # print(\"Time taken to calculate max flow push relabel:\", time.time()-sptime)\n",
    "    # stime = time.time()\n",
    "    #use the residual graph to get the max flow\n",
    "    flow = sum(weights[e] - res[e] for e in tgt.in_edges())\n",
    "    # print(\"The maximum flow from source to sink is:\", flow)\n",
    "    # print(\"Time taken to calculate max flow:\", time.time()-stime, \"flow:\", flow)\n",
    "    # stime = time.time()\n",
    "    # Determine the minimum cut partition\n",
    "    part = gt.min_st_cut(directed_graph, src, weights, res)\n",
    "    # print(\"The number of vertices in the partiton:\", sum(part))\n",
    "    # print(\"Time taken to calculate max flow and min cut:\", time.time()-stime)\n",
    "    # Find the boundary vertices\n",
    "    # stime = time.time()\n",
    "    boundary_vertices = find_boundary_vertices(np.array(directed_graph.get_edges()), part)\n",
    "    # print(\"Number of boundary vertices:\", len(boundary_vertices))\n",
    "    # print(\"Time taken to calculate seam:\", time.time()-stime)\n",
    "\n",
    "    shape = (test_size, test_size, test_size)\n",
    "\n",
    "    # Convert the boundary vertices to a 3D array\n",
    "    # stime = time.time()\n",
    "    boundary_array = boundary_vertices_to_array_masked(boundary_vertices, shape, 'x', x_pos, y_pos, z_pos)\n",
    "    # print(\"Boundary points marked:\", np.sum(boundary_array))\n",
    "    # print(\"Time taken to convert boundary vertices to array:\", time.time()-stime)\n",
    "    \n",
    "\n",
    "    return boundary_array, flow\n",
    "\n",
    "def multi_res_seam_iter(res_index, mask_array_data, b_arr_up):\n",
    "    masked_array = mask_array_data[res_index].copy().astype(np.int16)\n",
    "    masked_array[b_arr_up == 0] = -1\n",
    "    stime= time.time()\n",
    "    directed_graph, src, tgt, weights, x_pos, y_pos, z_pos = create_masked_directed_energy_graph_from_mask(masked_array)\n",
    "    # print(f\"Time taken to create graph {res_index}:\", time.time()-stime)\n",
    "    boundary_array, flow = calculate_seam_iter(directed_graph, src, tgt, weights, masked_array.shape[0], x_pos, y_pos, z_pos)\n",
    "    return boundary_array\n",
    "\n",
    "def multi_res_seam_calculation(mask_array_data, res_index=3, upscale_factor=2, dilation_amount=1):\n",
    "    directed_graph, src, tgt, weights, x_pos, y_pos, z_pos = create_masked_directed_energy_graph_from_mask(mask_array_data[res_index])\n",
    "    boundary_array, flow = calculate_seam_iter(directed_graph, src, tgt, weights, mask_array_data[res_index].shape[0], x_pos, y_pos, z_pos)\n",
    "    b_arr_up = upscale_and_dilate_3d(boundary_array, upscale_factor=2, dilation_amount=dilation_amount)\n",
    "    for i in range(res_index-1, -1, -1):\n",
    "        boundary_array = multi_res_seam_iter(i, mask_array_data, b_arr_up)\n",
    "        if i != 0:\n",
    "            b_arr_up = upscale_and_dilate_3d(boundary_array, upscale_factor=upscale_factor, dilation_amount=dilation_amount)\n",
    "    return boundary_array"
   ]
  },
  {
   "cell_type": "code",
   "execution_count": 8,
   "metadata": {},
   "outputs": [
    {
     "name": "stdout",
     "output_type": "stream",
     "text": [
      "Time taken to calculate and remove seam 0: 20.732311010360718\n",
      "Time taken to calculate and remove seam 1: 20.351593017578125\n",
      "Time taken to calculate and remove seam 2: 20.32573890686035\n",
      "Time taken to calculate and remove seam 3: 20.478810787200928\n",
      "Time taken to calculate and remove seam 4: 21.023407697677612\n",
      "Time taken to calculate and remove seam 5: 20.909087896347046\n",
      "Time taken to calculate and remove seam 6: 20.654766082763672\n"
     ]
    },
    {
     "ename": "KeyboardInterrupt",
     "evalue": "",
     "output_type": "error",
     "traceback": [
      "\u001b[0;31m---------------------------------------------------------------------------\u001b[0m",
      "\u001b[0;31mKeyboardInterrupt\u001b[0m                         Traceback (most recent call last)",
      "Cell \u001b[0;32mIn[8], line 9\u001b[0m\n\u001b[1;32m      7\u001b[0m \u001b[38;5;28;01mfor\u001b[39;00m i \u001b[38;5;129;01min\u001b[39;00m \u001b[38;5;28mrange\u001b[39m(num_seams_to_remove):\n\u001b[1;32m      8\u001b[0m     stime \u001b[38;5;241m=\u001b[39m time\u001b[38;5;241m.\u001b[39mtime()\n\u001b[0;32m----> 9\u001b[0m     boundary_array \u001b[38;5;241m=\u001b[39m \u001b[43mmulti_res_seam_calculation\u001b[49m\u001b[43m(\u001b[49m\u001b[43mmask_array_data\u001b[49m\u001b[43m,\u001b[49m\u001b[43m \u001b[49m\u001b[43mres_index\u001b[49m\u001b[43m,\u001b[49m\u001b[43m \u001b[49m\u001b[43mdilation_amount\u001b[49m\u001b[38;5;241;43m=\u001b[39;49m\u001b[38;5;241;43m1\u001b[39;49m\u001b[43m)\u001b[49m\n\u001b[1;32m     10\u001b[0m     mask_array_data, raw_array_data \u001b[38;5;241m=\u001b[39m remove_voxels(mask_array_data[\u001b[38;5;241m0\u001b[39m], raw_array_data, boundary_array)\n\u001b[1;32m     11\u001b[0m     mask_array_data \u001b[38;5;241m=\u001b[39m coarsen_image(mask_array_data, res_index)\n",
      "Cell \u001b[0;32mIn[7], line 51\u001b[0m, in \u001b[0;36mmulti_res_seam_calculation\u001b[0;34m(mask_array_data, res_index, upscale_factor, dilation_amount)\u001b[0m\n\u001b[1;32m     49\u001b[0m b_arr_up \u001b[38;5;241m=\u001b[39m upscale_and_dilate_3d(boundary_array, upscale_factor\u001b[38;5;241m=\u001b[39m\u001b[38;5;241m2\u001b[39m, dilation_amount\u001b[38;5;241m=\u001b[39mdilation_amount)\n\u001b[1;32m     50\u001b[0m \u001b[38;5;28;01mfor\u001b[39;00m i \u001b[38;5;129;01min\u001b[39;00m \u001b[38;5;28mrange\u001b[39m(res_index\u001b[38;5;241m-\u001b[39m\u001b[38;5;241m1\u001b[39m, \u001b[38;5;241m-\u001b[39m\u001b[38;5;241m1\u001b[39m, \u001b[38;5;241m-\u001b[39m\u001b[38;5;241m1\u001b[39m):\n\u001b[0;32m---> 51\u001b[0m     boundary_array \u001b[38;5;241m=\u001b[39m \u001b[43mmulti_res_seam_iter\u001b[49m\u001b[43m(\u001b[49m\u001b[43mi\u001b[49m\u001b[43m,\u001b[49m\u001b[43m \u001b[49m\u001b[43mmask_array_data\u001b[49m\u001b[43m,\u001b[49m\u001b[43m \u001b[49m\u001b[43mb_arr_up\u001b[49m\u001b[43m)\u001b[49m\n\u001b[1;32m     52\u001b[0m     \u001b[38;5;28;01mif\u001b[39;00m i \u001b[38;5;241m!=\u001b[39m \u001b[38;5;241m0\u001b[39m:\n\u001b[1;32m     53\u001b[0m         b_arr_up \u001b[38;5;241m=\u001b[39m upscale_and_dilate_3d(boundary_array, upscale_factor\u001b[38;5;241m=\u001b[39mupscale_factor, dilation_amount\u001b[38;5;241m=\u001b[39mdilation_amount)\n",
      "Cell \u001b[0;32mIn[7], line 41\u001b[0m, in \u001b[0;36mmulti_res_seam_iter\u001b[0;34m(res_index, mask_array_data, b_arr_up)\u001b[0m\n\u001b[1;32m     39\u001b[0m masked_array[b_arr_up \u001b[38;5;241m==\u001b[39m \u001b[38;5;241m0\u001b[39m] \u001b[38;5;241m=\u001b[39m \u001b[38;5;241m-\u001b[39m\u001b[38;5;241m1\u001b[39m\n\u001b[1;32m     40\u001b[0m stime\u001b[38;5;241m=\u001b[39m time\u001b[38;5;241m.\u001b[39mtime()\n\u001b[0;32m---> 41\u001b[0m directed_graph, src, tgt, weights, x_pos, y_pos, z_pos \u001b[38;5;241m=\u001b[39m \u001b[43mcreate_masked_directed_energy_graph_from_mask\u001b[49m\u001b[43m(\u001b[49m\u001b[43mmasked_array\u001b[49m\u001b[43m)\u001b[49m\n\u001b[1;32m     42\u001b[0m \u001b[38;5;66;03m# print(f\"Time taken to create graph {res_index}:\", time.time()-stime)\u001b[39;00m\n\u001b[1;32m     43\u001b[0m boundary_array, flow \u001b[38;5;241m=\u001b[39m calculate_seam_iter(directed_graph, src, tgt, weights, masked_array\u001b[38;5;241m.\u001b[39mshape[\u001b[38;5;241m0\u001b[39m], x_pos, y_pos, z_pos)\n",
      "File \u001b[0;32m~/Documents/VesuviusScroll/GP/3D_sheet_carving/helper.py:164\u001b[0m, in \u001b[0;36mcreate_masked_directed_energy_graph_from_mask\u001b[0;34m(mask_data, direction, large_weight)\u001b[0m\n\u001b[1;32m    161\u001b[0m         weights\u001b[38;5;241m.\u001b[39mappend(\u001b[38;5;28mint\u001b[39m(large_weight) \u001b[38;5;241m+\u001b[39m \u001b[38;5;241m1\u001b[39m)\n\u001b[1;32m    163\u001b[0m \u001b[38;5;66;03m# Convert edges and weights to numpy arrays\u001b[39;00m\n\u001b[0;32m--> 164\u001b[0m edges \u001b[38;5;241m=\u001b[39m \u001b[43mnp\u001b[49m\u001b[38;5;241;43m.\u001b[39;49m\u001b[43marray\u001b[49m\u001b[43m(\u001b[49m\u001b[43medges\u001b[49m\u001b[43m,\u001b[49m\u001b[43m \u001b[49m\u001b[43mdtype\u001b[49m\u001b[38;5;241;43m=\u001b[39;49m\u001b[43mnp\u001b[49m\u001b[38;5;241;43m.\u001b[39;49m\u001b[43mint32\u001b[49m\u001b[43m)\u001b[49m\n\u001b[1;32m    165\u001b[0m weights \u001b[38;5;241m=\u001b[39m np\u001b[38;5;241m.\u001b[39marray(weights, dtype\u001b[38;5;241m=\u001b[39mnp\u001b[38;5;241m.\u001b[39mint32)\n\u001b[1;32m    167\u001b[0m \u001b[38;5;66;03m# Add edges to the graph using add_edge_list\u001b[39;00m\n",
      "\u001b[0;31mKeyboardInterrupt\u001b[0m: "
     ]
    }
   ],
   "source": [
    "res_index = 3 #res index to start at, higher values are lower res, and thus should be faster\n",
    "mask_array_data = reduced_mask_data\n",
    "raw_array_data = reduced_raw_data[0]\n",
    "num_seams_to_remove = 76 #76 to hit the 180 vram limit -> mixed precision could increase this\n",
    "boundary_arrays = []\n",
    "\n",
    "for i in range(num_seams_to_remove):\n",
    "    stime = time.time()\n",
    "    boundary_array = multi_res_seam_calculation(mask_array_data, res_index, dilation_amount=1)\n",
    "    mask_array_data, raw_array_data = remove_voxels(mask_array_data[0], raw_array_data, boundary_array)\n",
    "    mask_array_data = coarsen_image(mask_array_data, res_index)\n",
    "    boundary_arrays.append(boundary_array)\n",
    "    print(f\"Time taken to calculate and remove seam {i}:\", time.time()-stime)"
   ]
  },
  {
   "cell_type": "code",
   "execution_count": 87,
   "metadata": {},
   "outputs": [
    {
     "name": "stdout",
     "output_type": "stream",
     "text": [
      "Saved mask_array_data[0] to /Users/jamesdarby/Documents/VesuviusScroll/GP/3D_sheet_carving/output/densified_cubes/densified_label_20240606_214137.nrrd\n",
      "Saved raw_array_data to /Users/jamesdarby/Documents/VesuviusScroll/GP/3D_sheet_carving/output/densified_cubes/densified_data_20240606_214137.nrrd\n"
     ]
    }
   ],
   "source": [
    "#save results\n",
    "# Create output directory if it doesn't exist\n",
    "output_dir = os.path.join(os.getcwd(), 'output/densified_cubes')\n",
    "os.makedirs(output_dir, exist_ok=True)\n",
    "\n",
    "# Save mask_array_data[0] as NRRD with a timestamp\n",
    "mask_nrrd_path = os.path.join(output_dir, f'{filename}_{num_seams_to_remove}_densified_label.nrrd')\n",
    "nrrd.write(mask_nrrd_path, mask_array_data[0])\n",
    "print(f\"Saved mask_array_data[0] to {mask_nrrd_path}\")\n",
    "\n",
    "# Save raw_array_data as NRRD with a timestamp\n",
    "raw_nrrd_path = os.path.join(output_dir, f'{filename}_{num_seams_to_remove}_densified_data.nrrd')\n",
    "nrrd.write(raw_nrrd_path, raw_array_data)\n",
    "print(f\"Saved raw_array_data to {raw_nrrd_path}\")"
   ]
  },
  {
   "cell_type": "code",
   "execution_count": 6,
   "metadata": {},
   "outputs": [
    {
     "data": {
      "application/vnd.jupyter.widget-view+json": {
       "model_id": "cc0c571e24044efabac27c44b8f6b368",
       "version_major": 2,
       "version_minor": 0
      },
      "text/plain": [
       "interactive(children=(IntSlider(value=0, description='slice_index', max=255), IntSlider(value=0, description='…"
      ]
     },
     "metadata": {},
     "output_type": "display_data"
    },
    {
     "data": {
      "text/plain": [
       "<function __main__.plot_slice(slice_index, axis=0)>"
      ]
     },
     "execution_count": 6,
     "metadata": {},
     "output_type": "execute_result"
    }
   ],
   "source": [
    "#plot results\n",
    "res_i = 0\n",
    "def plot_slice(slice_index, axis=0):\n",
    "    plt.figure(figsize=(8, 6))\n",
    "    if axis == 1:\n",
    "        plt.imshow(mark_boundaries_color(raw_array_data[:,slice_index,:], mask_array_data[res_i][:,slice_index,:]))\n",
    "    elif axis == 2:\n",
    "        plt.imshow(mark_boundaries_color(raw_array_data[:,:,slice_index], mask_array_data[res_i][:,:,slice_index]))\n",
    "    else:\n",
    "        plt.imshow(mark_boundaries_color(raw_array_data[slice_index,:,:], mask_array_data[res_i][slice_index,:,:]))\n",
    "    plt.colorbar()\n",
    "    plt.title(f'Slice {slice_index}')\n",
    "    plt.show()\n",
    "\n",
    "# Create a slider to browse through slices\n",
    "interact(plot_slice, slice_index=IntSlider(min=0, max=raw_array_data.shape[0]-1, step=1, value=0), axis=IntSlider(min=0, max=2, step=1, value=0))"
   ]
  }
 ],
 "metadata": {
  "kernelspec": {
   "display_name": "3d_sheet_carving",
   "language": "python",
   "name": "python3"
  },
  "language_info": {
   "codemirror_mode": {
    "name": "ipython",
    "version": 3
   },
   "file_extension": ".py",
   "mimetype": "text/x-python",
   "name": "python",
   "nbconvert_exporter": "python",
   "pygments_lexer": "ipython3",
   "version": "3.12.3"
  }
 },
 "nbformat": 4,
 "nbformat_minor": 2
}
