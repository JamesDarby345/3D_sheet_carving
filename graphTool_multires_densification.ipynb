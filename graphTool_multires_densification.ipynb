{
 "cells": [
  {
   "cell_type": "code",
   "execution_count": 39,
   "metadata": {},
   "outputs": [],
   "source": [
    "import nrrd\n",
    "import numpy as np\n",
    "import os\n",
    "import matplotlib.pyplot as plt\n",
    "from ipywidgets import interact, IntSlider\n",
    "from skimage.segmentation import mark_boundaries\n",
    "import cv2\n",
    "from scipy import ndimage as ndi\n",
    "from helper import *\n",
    "import graph_tool.all as gt\n",
    "import plotly.graph_objects as go\n",
    "import time\n",
    "from datetime import datetime\n",
    "from scipy.ndimage import binary_dilation, binary_erosion, binary_closing\n",
    "\n",
    "current_directory = os.getcwd()\n",
    "filename = \"manual_2\"\n",
    "label_path = f\"{current_directory}/data/label/{filename}_label.nrrd\"\n",
    "raw_data_path = f\"{current_directory}/data/raw/{filename}_raw.nrrd\"\n",
    "\n",
    "mask_data, mask_header = nrrd.read(label_path)\n",
    "raw_data, raw_header = nrrd.read(raw_data_path)"
   ]
  },
  {
   "cell_type": "code",
   "execution_count": 40,
   "metadata": {},
   "outputs": [],
   "source": [
    "def erode_structures(mask_array, iterations=3):\n",
    "    unique_values = np.unique(mask_array)\n",
    "    unique_values = unique_values[unique_values > 0]  # Ignore background (assuming background is 0)\n",
    "    \n",
    "    eroded_array = np.zeros_like(mask_array)\n",
    "    \n",
    "    for value in unique_values:\n",
    "        structure_mask = mask_array == value\n",
    "        \n",
    "        # Erode the structure\n",
    "        eroded_structure = ndi.binary_erosion(structure_mask, iterations=iterations)\n",
    "        \n",
    "        # Add the eroded structure to the new array\n",
    "        eroded_array[eroded_structure] = value\n",
    "    \n",
    "    return eroded_array"
   ]
  },
  {
   "cell_type": "code",
   "execution_count": 43,
   "metadata": {},
   "outputs": [],
   "source": [
    "iterations = 3\n",
    "mask_data_eroded = erode_structures(mask_data, iterations=iterations)"
   ]
  },
  {
   "cell_type": "code",
   "execution_count": 44,
   "metadata": {},
   "outputs": [
    {
     "data": {
      "application/vnd.jupyter.widget-view+json": {
       "model_id": "22b486513f2c4d31b346640f3d94ed5e",
       "version_major": 2,
       "version_minor": 0
      },
      "text/plain": [
       "interactive(children=(IntSlider(value=3, description='slice_index', max=255), IntSlider(value=0, description='…"
      ]
     },
     "metadata": {},
     "output_type": "display_data"
    },
    {
     "data": {
      "text/plain": [
       "<function __main__.plot_slice(slice_index, axis=0)>"
      ]
     },
     "execution_count": 44,
     "metadata": {},
     "output_type": "execute_result"
    }
   ],
   "source": [
    "#plot results\n",
    "res_i = 0\n",
    "def plot_slice(slice_index, axis=0):\n",
    "    plt.figure(figsize=(8, 6))\n",
    "    if axis == 1:\n",
    "        plt.imshow(mask_data_eroded[:,slice_index,:])\n",
    "    elif axis == 2:\n",
    "        plt.imshow(mask_data_eroded[:,:,slice_index])\n",
    "    else:\n",
    "        plt.imshow(mask_data_eroded[slice_index,:,:])\n",
    "    plt.colorbar()\n",
    "    plt.title(f'Slice {slice_index}')\n",
    "    plt.show()\n",
    "\n",
    "# Create a slider to browse through slices\n",
    "interact(plot_slice, slice_index=IntSlider(min=0, max=mask_data.shape[0]-1, step=1, value=iterations), axis=IntSlider(min=0, max=2, step=1, value=0))"
   ]
  },
  {
   "cell_type": "code",
   "execution_count": 45,
   "metadata": {},
   "outputs": [
    {
     "data": {
      "application/vnd.jupyter.widget-view+json": {
       "model_id": "b019dbed357a497baaa17c3348d98d34",
       "version_major": 2,
       "version_minor": 0
      },
      "text/plain": [
       "interactive(children=(IntSlider(value=3, description='slice_index', max=255), IntSlider(value=0, description='…"
      ]
     },
     "metadata": {},
     "output_type": "display_data"
    },
    {
     "data": {
      "text/plain": [
       "<function __main__.plot_slice(slice_index, axis=0)>"
      ]
     },
     "execution_count": 45,
     "metadata": {},
     "output_type": "execute_result"
    }
   ],
   "source": [
    "#plot results\n",
    "res_i = 0\n",
    "def plot_slice(slice_index, axis=0):\n",
    "    plt.figure(figsize=(8, 6))\n",
    "    if axis == 1:\n",
    "        plt.imshow(mask_data[:,slice_index,:]-mask_data_eroded[:,slice_index,:])\n",
    "    elif axis == 2:\n",
    "        plt.imshow(mask_data[:,:,slice_index]-mask_data_eroded[:,:,slice_index])\n",
    "    else:\n",
    "        plt.imshow(mask_data[slice_index,:,:]-mask_data_eroded[slice_index,:,:])\n",
    "    plt.colorbar()\n",
    "    plt.title(f'Slice {slice_index}')\n",
    "    plt.show()\n",
    "\n",
    "# Create a slider to browse through slices\n",
    "interact(plot_slice, slice_index=IntSlider(min=0, max=mask_data.shape[0]-1, step=1, value=iterations), axis=IntSlider(min=0, max=2, step=1, value=0))"
   ]
  },
  {
   "cell_type": "code",
   "execution_count": 46,
   "metadata": {},
   "outputs": [],
   "source": [
    "#rotate the data for best cut angle and calculate reduced data representations\n",
    "#NOTE: dont rotate manual label 2\n",
    "rotate = False\n",
    "if rotate:\n",
    "    axis = 1 #0 for x, 1 for y and 2 for z\n",
    "    k = 1 # number of times to rotate the array\n",
    "    mask_data = np.rot90(mask_data, k, axes=(axis, (axis+1)%3))\n",
    "    raw_data = np.rot90(raw_data, k, axes=(axis, (axis+1)%3))\n",
    "\n",
    "reduced_mask_data = coarsen_image(mask_data_eroded, 3)\n",
    "reduced_raw_data = coarsen_image(raw_data, 3)\n",
    "#[0] is full res, each further index is 2x lower res, 256, 128, 64, 32"
   ]
  },
  {
   "cell_type": "code",
   "execution_count": 47,
   "metadata": {},
   "outputs": [
    {
     "data": {
      "application/vnd.jupyter.widget-view+json": {
       "model_id": "916788479b41445eaed6cac0537b3918",
       "version_major": 2,
       "version_minor": 0
      },
      "text/plain": [
       "interactive(children=(IntSlider(value=0, description='slice_index', max=255), IntSlider(value=0, description='…"
      ]
     },
     "metadata": {},
     "output_type": "display_data"
    },
    {
     "data": {
      "text/plain": [
       "<function __main__.plot_slice(slice_index, axis=0)>"
      ]
     },
     "execution_count": 47,
     "metadata": {},
     "output_type": "execute_result"
    }
   ],
   "source": [
    "#visualise data to confirm alignment\n",
    "res_i = 0\n",
    "def plot_slice(slice_index, axis=0):\n",
    "    plt.figure(figsize=(8, 6))\n",
    "    if axis == 1:\n",
    "        plt.imshow(mark_boundaries_color(reduced_raw_data[res_i][:,slice_index,:], reduced_mask_data[res_i][:,slice_index,:]))\n",
    "    elif axis == 2:\n",
    "        plt.imshow(mark_boundaries_color(reduced_raw_data[res_i][:,:,slice_index], reduced_mask_data[res_i][:,:,slice_index]))\n",
    "    else:\n",
    "        plt.imshow(mark_boundaries_color(reduced_raw_data[res_i][slice_index,:,:], reduced_mask_data[res_i][slice_index,:,:]))\n",
    "    plt.colorbar()\n",
    "    plt.title(f'Slice {slice_index}')\n",
    "    plt.show()\n",
    "\n",
    "# Create a slider to browse through slices\n",
    "interact(plot_slice, slice_index=IntSlider(min=0, max=reduced_raw_data[0].shape[0]-1, step=1, value=iterations), axis=IntSlider(min=0, max=2, step=1, value=0))"
   ]
  },
  {
   "cell_type": "code",
   "execution_count": 21,
   "metadata": {},
   "outputs": [],
   "source": [
    "# Helper functions that are annoying to move to a seperate file\n",
    "def calculate_seam_iter(directed_graph, src, tgt, weights, test_size, x_pos, y_pos, z_pos):\n",
    "    # Compute the residual capactiy of the edges\n",
    "    # stime = time.time()\n",
    "    res = gt.boykov_kolmogorov_max_flow(directed_graph, src, tgt, weights) #time complexity: edges * vertices^2 * abs(min cut) \n",
    "    # print(\"Time taken to calculate max flow boykov:\", time.time()-stime)\n",
    "    # sptime = time.time()\n",
    "    # res = gt.push_relabel_max_flow(directed_graph, src, tgt, weights) #time complexity: vertices^3 <- scales better for our graph\n",
    "    # print(\"Time taken to calculate max flow push relabel:\", time.time()-sptime)\n",
    "    # stime = time.time()\n",
    "    #use the residual graph to get the max flow\n",
    "    flow = sum(weights[e] - res[e] for e in tgt.in_edges())\n",
    "    # print(\"The maximum flow from source to sink is:\", flow)\n",
    "    # print(\"Time taken to calculate max flow:\", time.time()-stime, \"flow:\", flow)\n",
    "    # stime = time.time()\n",
    "    # Determine the minimum cut partition\n",
    "    part = gt.min_st_cut(directed_graph, src, weights, res)\n",
    "    # print(\"The number of vertices in the partiton:\", sum(part))\n",
    "    # print(\"Time taken to calculate max flow and min cut:\", time.time()-stime)\n",
    "    # Find the boundary vertices\n",
    "    # stime = time.time()\n",
    "    boundary_vertices = find_boundary_vertices(np.array(directed_graph.get_edges()), part)\n",
    "    # print(\"Number of boundary vertices:\", len(boundary_vertices))\n",
    "    # print(\"Time taken to calculate seam:\", time.time()-stime)\n",
    "\n",
    "    shape = (test_size, test_size, test_size)\n",
    "\n",
    "    # Convert the boundary vertices to a 3D array\n",
    "    # stime = time.time()\n",
    "    boundary_array = boundary_vertices_to_array_masked(boundary_vertices, shape, 'x', x_pos, y_pos, z_pos)\n",
    "    # print(\"Boundary points marked:\", np.sum(boundary_array))\n",
    "    # print(\"Time taken to convert boundary vertices to array:\", time.time()-stime)\n",
    "    \n",
    "\n",
    "    return boundary_array, flow\n",
    "\n",
    "def multi_res_seam_iter(res_index, mask_array_data, b_arr_up):\n",
    "    masked_array = mask_array_data[res_index].copy().astype(np.int16)\n",
    "    masked_array[b_arr_up == 0] = -1\n",
    "    stime= time.time()\n",
    "    directed_graph, src, tgt, weights, x_pos, y_pos, z_pos = create_masked_directed_energy_graph_from_mask(masked_array)\n",
    "    # print(f\"Time taken to create graph {res_index}:\", time.time()-stime)\n",
    "    boundary_array, flow = calculate_seam_iter(directed_graph, src, tgt, weights, masked_array.shape[0], x_pos, y_pos, z_pos)\n",
    "    return boundary_array\n",
    "\n",
    "def multi_res_seam_calculation(mask_array_data, res_index=3, upscale_factor=2, dilation_amount=1):\n",
    "    directed_graph, src, tgt, weights, x_pos, y_pos, z_pos = create_masked_directed_energy_graph_from_mask(mask_array_data[res_index])\n",
    "    boundary_array, flow = calculate_seam_iter(directed_graph, src, tgt, weights, mask_array_data[res_index].shape[0], x_pos, y_pos, z_pos)\n",
    "    b_arr_up = upscale_and_dilate_3d(boundary_array, upscale_factor=2, dilation_amount=dilation_amount)\n",
    "    for i in range(res_index-1, -1, -1):\n",
    "        boundary_array = multi_res_seam_iter(i, mask_array_data, b_arr_up)\n",
    "        if i != 0:\n",
    "            b_arr_up = upscale_and_dilate_3d(boundary_array, upscale_factor=upscale_factor, dilation_amount=dilation_amount)\n",
    "    return boundary_array"
   ]
  },
  {
   "cell_type": "code",
   "execution_count": 11,
   "metadata": {},
   "outputs": [
    {
     "name": "stdout",
     "output_type": "stream",
     "text": [
      "Time taken to calculate and remove seam 0: 20.845386028289795\n",
      "Time taken to calculate and remove seam 1: 20.649846076965332\n",
      "Time taken to calculate and remove seam 2: 20.21210479736328\n",
      "Time taken to calculate and remove seam 3: 19.936538219451904\n",
      "Time taken to calculate and remove seam 4: 20.254873991012573\n",
      "Time taken to calculate and remove seam 5: 20.076255083084106\n",
      "Time taken to calculate and remove seam 6: 20.236415147781372\n",
      "Time taken to calculate and remove seam 7: 20.147073984146118\n",
      "Time taken to calculate and remove seam 8: 20.458027124404907\n",
      "Time taken to calculate and remove seam 9: 20.3747079372406\n",
      "Time taken to calculate and remove seam 10: 19.99093222618103\n",
      "Time taken to calculate and remove seam 11: 19.889456033706665\n",
      "Time taken to calculate and remove seam 12: 20.220655918121338\n",
      "Time taken to calculate and remove seam 13: 20.198872804641724\n",
      "Time taken to calculate and remove seam 14: 19.854634046554565\n",
      "Time taken to calculate and remove seam 15: 19.98770570755005\n",
      "Time taken to calculate and remove seam 16: 20.242154121398926\n",
      "Time taken to calculate and remove seam 17: 20.29181432723999\n",
      "Time taken to calculate and remove seam 18: 20.1586492061615\n",
      "Time taken to calculate and remove seam 19: 20.078321933746338\n",
      "Time taken to calculate and remove seam 20: 19.85378408432007\n",
      "Time taken to calculate and remove seam 21: 20.13716721534729\n",
      "Time taken to calculate and remove seam 22: 19.993773937225342\n",
      "Time taken to calculate and remove seam 23: 20.355756998062134\n",
      "Time taken to calculate and remove seam 24: 20.02821922302246\n",
      "Time taken to calculate and remove seam 25: 20.195226907730103\n",
      "Time taken to calculate and remove seam 26: 20.019217014312744\n",
      "Time taken to calculate and remove seam 27: 20.34448003768921\n",
      "Time taken to calculate and remove seam 28: 20.21271300315857\n",
      "Time taken to calculate and remove seam 29: 20.039556980133057\n",
      "Time taken to calculate and remove seam 30: 20.370131015777588\n",
      "Time taken to calculate and remove seam 31: 19.946895122528076\n",
      "Time taken to calculate and remove seam 32: 19.870803833007812\n",
      "Time taken to calculate and remove seam 33: 19.879559755325317\n",
      "Time taken to calculate and remove seam 34: 19.993154048919678\n",
      "Time taken to calculate and remove seam 35: 19.596154928207397\n",
      "Time taken to calculate and remove seam 36: 19.930236101150513\n",
      "Time taken to calculate and remove seam 37: 19.96018695831299\n",
      "Time taken to calculate and remove seam 38: 19.51901412010193\n",
      "Time taken to calculate and remove seam 39: 19.5870041847229\n",
      "Time taken to calculate and remove seam 40: 20.109289169311523\n",
      "Time taken to calculate and remove seam 41: 19.84785795211792\n",
      "Time taken to calculate and remove seam 42: 19.814584732055664\n",
      "Time taken to calculate and remove seam 43: 20.00317096710205\n",
      "Time taken to calculate and remove seam 44: 19.432088136672974\n",
      "Time taken to calculate and remove seam 45: 19.55093216896057\n",
      "Time taken to calculate and remove seam 46: 20.614301204681396\n",
      "Time taken to calculate and remove seam 47: 20.11492109298706\n",
      "Time taken to calculate and remove seam 48: 20.005624771118164\n",
      "Time taken to calculate and remove seam 49: 20.503010034561157\n",
      "Time taken to calculate and remove seam 50: 20.46541476249695\n",
      "Time taken to calculate and remove seam 51: 20.56992793083191\n",
      "Time taken to calculate and remove seam 52: 20.638581037521362\n",
      "Time taken to calculate and remove seam 53: 20.533409118652344\n",
      "Time taken to calculate and remove seam 54: 20.36574101448059\n",
      "Time taken to calculate and remove seam 55: 20.45533776283264\n",
      "Time taken to calculate and remove seam 56: 20.220373153686523\n",
      "Time taken to calculate and remove seam 57: 20.511649131774902\n",
      "Time taken to calculate and remove seam 58: 20.094722986221313\n",
      "Time taken to calculate and remove seam 59: 20.135538816452026\n",
      "Time taken to calculate and remove seam 60: 20.1884548664093\n",
      "Time taken to calculate and remove seam 61: 20.132578134536743\n",
      "Time taken to calculate and remove seam 62: 19.87504816055298\n",
      "Time taken to calculate and remove seam 63: 19.869691133499146\n",
      "Time taken to calculate and remove seam 64: 19.598025798797607\n",
      "Time taken to calculate and remove seam 65: 19.90658712387085\n",
      "Time taken to calculate and remove seam 66: 19.78583574295044\n",
      "Time taken to calculate and remove seam 67: 20.069302082061768\n",
      "Time taken to calculate and remove seam 68: 19.892927169799805\n",
      "Time taken to calculate and remove seam 69: 19.64114260673523\n",
      "Time taken to calculate and remove seam 70: 19.597795009613037\n",
      "Time taken to calculate and remove seam 71: 19.697423219680786\n",
      "Time taken to calculate and remove seam 72: 19.543394804000854\n",
      "Time taken to calculate and remove seam 73: 19.611840963363647\n",
      "Time taken to calculate and remove seam 74: 19.76303482055664\n",
      "Time taken to calculate and remove seam 75: 19.489150047302246\n"
     ]
    }
   ],
   "source": [
    "res_index = 3 #res index to start at, higher values are lower res, and thus should be faster\n",
    "mask_array_data = reduced_mask_data\n",
    "raw_array_data = reduced_raw_data[0]\n",
    "num_seams_to_remove = 76 #76 to hit the 180 vram limit -> mixed precision could increase this\n",
    "boundary_arrays = []\n",
    "\n",
    "for i in range(num_seams_to_remove):\n",
    "    stime = time.time()\n",
    "    boundary_array = multi_res_seam_calculation(mask_array_data, res_index, dilation_amount=1)\n",
    "    mask_array_data, raw_array_data = remove_voxels(mask_array_data[0], raw_array_data, boundary_array)\n",
    "    mask_array_data = coarsen_image(mask_array_data, res_index)\n",
    "    boundary_arrays.append(boundary_array)\n",
    "    print(f\"Time taken to calculate and remove seam {i}:\", time.time()-stime)"
   ]
  },
  {
   "cell_type": "code",
   "execution_count": 12,
   "metadata": {},
   "outputs": [
    {
     "name": "stdout",
     "output_type": "stream",
     "text": [
      "Saved mask_array_data[0] to /Users/jamesdarby/Documents/VesuviusScroll/GP/3D_sheet_carving/output/densified_cubes/manual_2_76_densified_label.nrrd\n",
      "Saved raw_array_data to /Users/jamesdarby/Documents/VesuviusScroll/GP/3D_sheet_carving/output/densified_cubes/manual_2_76_densified_data.nrrd\n"
     ]
    }
   ],
   "source": [
    "#save results\n",
    "# Create output directory if it doesn't exist\n",
    "output_dir = os.path.join(os.getcwd(), 'output/densified_cubes')\n",
    "os.makedirs(output_dir, exist_ok=True)\n",
    "\n",
    "# Save mask_array_data[0] as NRRD with a timestamp\n",
    "mask_nrrd_path = os.path.join(output_dir, f'{filename}_{num_seams_to_remove}_densified_label.nrrd')\n",
    "nrrd.write(mask_nrrd_path, mask_array_data[0])\n",
    "print(f\"Saved mask_array_data[0] to {mask_nrrd_path}\")\n",
    "\n",
    "# Save raw_array_data as NRRD with a timestamp\n",
    "raw_nrrd_path = os.path.join(output_dir, f'{filename}_{num_seams_to_remove}_densified_data.nrrd')\n",
    "nrrd.write(raw_nrrd_path, raw_array_data)\n",
    "print(f\"Saved raw_array_data to {raw_nrrd_path}\")"
   ]
  },
  {
   "cell_type": "code",
   "execution_count": 13,
   "metadata": {},
   "outputs": [
    {
     "data": {
      "application/vnd.jupyter.widget-view+json": {
       "model_id": "114d774b03d846eea75201b3167dac2b",
       "version_major": 2,
       "version_minor": 0
      },
      "text/plain": [
       "interactive(children=(IntSlider(value=0, description='slice_index', max=255), IntSlider(value=0, description='…"
      ]
     },
     "metadata": {},
     "output_type": "display_data"
    },
    {
     "data": {
      "text/plain": [
       "<function __main__.plot_slice(slice_index, axis=0)>"
      ]
     },
     "execution_count": 13,
     "metadata": {},
     "output_type": "execute_result"
    },
    {
     "ename": "",
     "evalue": "",
     "output_type": "error",
     "traceback": [
      "\u001b[1;31mThe Kernel crashed while executing code in the current cell or a previous cell. \n",
      "\u001b[1;31mPlease review the code in the cell(s) to identify a possible cause of the failure. \n",
      "\u001b[1;31mClick <a href='https://aka.ms/vscodeJupyterKernelCrash'>here</a> for more info. \n",
      "\u001b[1;31mView Jupyter <a href='command:jupyter.viewOutput'>log</a> for further details."
     ]
    }
   ],
   "source": [
    "#plot results\n",
    "res_i = 0\n",
    "def plot_slice(slice_index, axis=0):\n",
    "    plt.figure(figsize=(8, 6))\n",
    "    if axis == 1:\n",
    "        plt.imshow(mark_boundaries_color(raw_array_data[:,slice_index,:], mask_array_data[res_i][:,slice_index,:]))\n",
    "    elif axis == 2:\n",
    "        plt.imshow(mark_boundaries_color(raw_array_data[:,:,slice_index], mask_array_data[res_i][:,:,slice_index]))\n",
    "    else:\n",
    "        plt.imshow(mark_boundaries_color(raw_array_data[slice_index,:,:], mask_array_data[res_i][slice_index,:,:]))\n",
    "    plt.colorbar()\n",
    "    plt.title(f'Slice {slice_index}')\n",
    "    plt.show()\n",
    "\n",
    "# Create a slider to browse through slices\n",
    "interact(plot_slice, slice_index=IntSlider(min=0, max=raw_array_data.shape[0]-1, step=1, value=0), axis=IntSlider(min=0, max=2, step=1, value=0))"
   ]
  }
 ],
 "metadata": {
  "kernelspec": {
   "display_name": "3d_sheet_carving",
   "language": "python",
   "name": "python3"
  },
  "language_info": {
   "codemirror_mode": {
    "name": "ipython",
    "version": 3
   },
   "file_extension": ".py",
   "mimetype": "text/x-python",
   "name": "python",
   "nbconvert_exporter": "python",
   "pygments_lexer": "ipython3",
   "version": "3.12.3"
  }
 },
 "nbformat": 4,
 "nbformat_minor": 2
}
