{
 "cells": [
  {
   "cell_type": "code",
   "execution_count": 1,
   "metadata": {},
   "outputs": [],
   "source": [
    "import nrrd\n",
    "import numpy as np\n",
    "import os\n",
    "import matplotlib.pyplot as plt\n",
    "from ipywidgets import interact, IntSlider\n",
    "from skimage.segmentation import mark_boundaries\n",
    "import cv2\n",
    "from scipy import ndimage as ndi\n",
    "from helper import *\n",
    "import graph_tool.all as gt\n",
    "import plotly.graph_objects as go\n",
    "import time\n",
    "\n",
    "current_directory = os.getcwd()\n",
    "label_path = f\"{current_directory}/data/label/manual_1_label.nrrd\"\n",
    "raw_data_path = f\"{current_directory}/data/raw/manual_1_raw.nrrd\"\n",
    "\n",
    "mask_data, mask_header = nrrd.read(label_path)\n",
    "raw_data, raw_header = nrrd.read(raw_data_path)"
   ]
  },
  {
   "cell_type": "code",
   "execution_count": 2,
   "metadata": {},
   "outputs": [],
   "source": [
    "#rotate the data for best cut angle and calculate reduced data representations\n",
    "axis = 1 #0 for x, 1 for y and 2 for z\n",
    "k = 1 # number of times to rotate the array\n",
    "mask_data = np.rot90(mask_data, k, axes=(axis, (axis+1)%3))\n",
    "raw_data = np.rot90(raw_data, k, axes=(axis, (axis+1)%3))\n",
    "\n",
    "reduced_mask_data = coarsen_image(mask_data, 3)\n",
    "reduced_raw_data = coarsen_image(raw_data, 3)\n",
    "#[0] is full res, each further index is 2x lower res, 256, 128, 64, 32"
   ]
  },
  {
   "cell_type": "code",
   "execution_count": 3,
   "metadata": {},
   "outputs": [
    {
     "name": "stdout",
     "output_type": "stream",
     "text": [
      "64 64 64\n"
     ]
    }
   ],
   "source": [
    "#create reduced graph\n",
    "res_index = 2\n",
    "rotated_directed_graph, r_src, r_tgt, rotated_weights, x_pos, y_pos, z_pos = create_masked_directed_energy_graph_from_mask(reduced_mask_data[res_index])"
   ]
  },
  {
   "cell_type": "code",
   "execution_count": 4,
   "metadata": {},
   "outputs": [],
   "source": [
    "def calculate_seam_iter(directed_graph, src, tgt, weights, test_size, x_pos, y_pos, z_pos):\n",
    "    # Compute the residual capactiy of the edges\n",
    "    stime = time.time()\n",
    "    res = gt.boykov_kolmogorov_max_flow(directed_graph, src, tgt, weights) #time complexity: edges * vertices^2 * abs(min cut) \n",
    "    print(\"Time taken to calculate max flow boykov:\", time.time()-stime)\n",
    "    # sptime = time.time()\n",
    "    # res = gt.push_relabel_max_flow(directed_graph, src, tgt, weights) #time complexity: vertices^3 <- scales better for our graph\n",
    "    # print(\"Time taken to calculate max flow push relabel:\", time.time()-sptime)\n",
    "    stime = time.time()\n",
    "    #use the residual graph to get the max flow\n",
    "    flow = sum(weights[e] - res[e] for e in tgt.in_edges())\n",
    "    # print(\"The maximum flow from source to sink is:\", flow)\n",
    "    print(\"Time taken to calculate max flow:\", time.time()-stime, \"flow:\", flow)\n",
    "    stime = time.time()\n",
    "    # Determine the minimum cut partition\n",
    "    part = gt.min_st_cut(directed_graph, src, weights, res)\n",
    "    # print(\"The number of vertices in the partiton:\", sum(part))\n",
    "    print(\"Time taken to calculate max flow and min cut:\", time.time()-stime)\n",
    "    # Find the boundary vertices\n",
    "    stime = time.time()\n",
    "    boundary_vertices = find_boundary_vertices(np.array(directed_graph.get_edges()), part)\n",
    "    # print(\"Number of boundary vertices:\", len(boundary_vertices))\n",
    "    print(\"Time taken to calculate seam:\", time.time()-stime)\n",
    "\n",
    "    shape = (test_size, test_size, test_size)\n",
    "\n",
    "    # Convert the boundary vertices to a 3D array\n",
    "    stime = time.time()\n",
    "    boundary_array = boundary_vertices_to_array_masked(boundary_vertices, shape, 'x', x_pos, y_pos, z_pos)\n",
    "    # print(\"Boundary points marked:\", np.sum(boundary_array))\n",
    "    print(\"Time taken to convert boundary vertices to array:\", time.time()-stime)\n",
    "\n",
    "    return boundary_array, weights, flow"
   ]
  },
  {
   "cell_type": "code",
   "execution_count": 5,
   "metadata": {},
   "outputs": [
    {
     "name": "stdout",
     "output_type": "stream",
     "text": [
      "Time taken to calculate max flow boykov: 4.14008903503418\n",
      "Time taken to calculate max flow: 0.04186892509460449 flow: 8848\n",
      "Time taken to calculate max flow and min cut: 0.09170913696289062\n",
      "edges that cross the partition: 1540352\n",
      "boundary vertices: 6523\n",
      "Time taken to calculate seam: 0.01726698875427246\n",
      "Time taken to convert boundary vertices to array: 0.21114301681518555\n",
      "(256, 256, 256)\n"
     ]
    }
   ],
   "source": [
    "boundary_array, rotated_weights, flow = calculate_seam_iter(rotated_directed_graph, r_src, r_tgt, rotated_weights, reduced_mask_data[res_index].shape[0], x_pos, y_pos, z_pos)\n",
    "b_arr_up = upscale_and_dilate_3d(boundary_array, upscale_factor=4, dilation_amount=1)\n",
    "print(b_arr_up.shape)"
   ]
  },
  {
   "cell_type": "code",
   "execution_count": 6,
   "metadata": {},
   "outputs": [
    {
     "name": "stdout",
     "output_type": "stream",
     "text": [
      "(256, 256, 256) (256, 256, 256)\n",
      "256 256 256\n"
     ]
    }
   ],
   "source": [
    "# copying and masking the high res data for masked graph creation\n",
    "res_index = 0\n",
    "masked_array = reduced_mask_data[res_index].copy()\n",
    "print(masked_array.shape, b_arr_up.shape)\n",
    "masked_array[b_arr_up == 0] = -1\n",
    "\n",
    "masked_graph, masked_src, masked_sink, masked_weights, x_pos, y_pos, z_pos = create_masked_directed_energy_graph_from_mask(masked_array)"
   ]
  },
  {
   "cell_type": "code",
   "execution_count": 9,
   "metadata": {},
   "outputs": [
    {
     "name": "stdout",
     "output_type": "stream",
     "text": [
      "Time taken to calculate max flow boykov: 2.8004941940307617\n",
      "Time taken to calculate max flow push relabel: 3.210710048675537\n",
      "Time taken to calculate max flow: 0.655430793762207 flow: 121111\n",
      "Time taken to calculate max flow and min cut: 6.2647340297698975\n",
      "edges that cross the partition: 2436094\n",
      "boundary vertices: 102487\n",
      "Time taken to calculate seam: 0.06717801094055176\n",
      "Time taken to convert boundary vertices to array: 12.855855941772461\n"
     ]
    }
   ],
   "source": [
    "boundary_array, masked_weights, flow = calculate_seam_iter(masked_graph, masked_src, masked_sink, masked_weights, masked_array.shape[0], x_pos, y_pos, z_pos)"
   ]
  }
 ],
 "metadata": {
  "kernelspec": {
   "display_name": "3d_sheet_carving",
   "language": "python",
   "name": "python3"
  },
  "language_info": {
   "codemirror_mode": {
    "name": "ipython",
    "version": 3
   },
   "file_extension": ".py",
   "mimetype": "text/x-python",
   "name": "python",
   "nbconvert_exporter": "python",
   "pygments_lexer": "ipython3",
   "version": "3.12.3"
  }
 },
 "nbformat": 4,
 "nbformat_minor": 2
}
