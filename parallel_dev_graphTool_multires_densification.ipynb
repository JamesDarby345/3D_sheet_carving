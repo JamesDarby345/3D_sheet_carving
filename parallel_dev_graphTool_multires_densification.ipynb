{
 "cells": [
  {
   "cell_type": "code",
   "execution_count": 1,
   "metadata": {},
   "outputs": [],
   "source": [
    "import nrrd\n",
    "import numpy as np\n",
    "import os\n",
    "import matplotlib.pyplot as plt\n",
    "from ipywidgets import interact, IntSlider\n",
    "from skimage.segmentation import mark_boundaries\n",
    "from scipy import ndimage as ndi\n",
    "from helper import *\n",
    "import graph_tool.all as gt\n",
    "import plotly.graph_objects as go\n",
    "import time\n",
    "\n",
    "current_directory = os.getcwd()\n",
    "filename = \"manual_2\"\n",
    "label_path = f\"{current_directory}/data/label/{filename}_label.nrrd\"\n",
    "raw_data_path = f\"{current_directory}/data/raw/{filename}_raw.nrrd\"\n",
    "\n",
    "mask_data, mask_header = nrrd.read(label_path)\n",
    "raw_data, raw_header = nrrd.read(raw_data_path)"
   ]
  },
  {
   "cell_type": "code",
   "execution_count": 2,
   "metadata": {},
   "outputs": [],
   "source": [
    "#rotate the data and calculate reduced data representations\n",
    "#lists of the 3 rotations of the reduced mask and raw data\n",
    "reduced_mask_data_list = []\n",
    "reduced_raw_data_list = []\n",
    "\n",
    "reduced_mask_data_list.append(coarsen_image(mask_data, 3))\n",
    "reduced_raw_data_list.append(coarsen_image(raw_data, 3))\n",
    "\n",
    "k = 1 # number of times to rotate the array\n",
    "axis = 0 #0 for x, 1 for y and 2 for z\n",
    "mask_data_r = np.rot90(mask_data, k, axes=(axis, (axis+1)%3))\n",
    "raw_data_r = np.rot90(raw_data, k, axes=(axis, (axis+1)%3))\n",
    "\n",
    "reduced_mask_data_list.append(coarsen_image(mask_data_r, 3))\n",
    "reduced_raw_data_list.append(coarsen_image(raw_data_r, 3))\n",
    "\n",
    "axis = 1\n",
    "mask_data_r = np.rot90(mask_data, k, axes=(axis, (axis+1)%3))\n",
    "raw_data_r = np.rot90(raw_data, k, axes=(axis, (axis+1)%3))\n",
    "\n",
    "reduced_mask_data_list.append(coarsen_image(mask_data_r, 3))\n",
    "reduced_raw_data_list.append(coarsen_image(raw_data_r, 3))\n",
    "num_rotations = 3\n",
    "#index 0 of a list element is full res, each further index is 2x lower res, 256, 128, 64, 32"
   ]
  },
  {
   "cell_type": "code",
   "execution_count": 3,
   "metadata": {},
   "outputs": [
    {
     "data": {
      "application/vnd.jupyter.widget-view+json": {
       "model_id": "17a4d882f4414995ab31f39661b61ab5",
       "version_major": 2,
       "version_minor": 0
      },
      "text/plain": [
       "interactive(children=(IntSlider(value=0, description='slice_index', max=255), IntSlider(value=0, description='…"
      ]
     },
     "metadata": {},
     "output_type": "display_data"
    },
    {
     "data": {
      "text/plain": [
       "<function __main__.plot_slice(slice_index, axis=0)>"
      ]
     },
     "execution_count": 3,
     "metadata": {},
     "output_type": "execute_result"
    }
   ],
   "source": [
    "#visualise data to confirm alignment\n",
    "res_i = 0\n",
    "rot_i = 2\n",
    "def plot_slice(slice_index, axis=0):\n",
    "    plt.figure(figsize=(8, 6))\n",
    "    if axis == 1:\n",
    "        plt.imshow(mark_boundaries_color(reduced_raw_data_list[rot_i][res_i][:,slice_index,:], reduced_mask_data_list[rot_i][res_i][:,slice_index,:]))\n",
    "    elif axis == 2:\n",
    "        plt.imshow(mark_boundaries_color(reduced_raw_data_list[rot_i][res_i][:,:,slice_index], reduced_mask_data_list[rot_i][res_i][:,:,slice_index]))\n",
    "    else:\n",
    "        plt.imshow(mark_boundaries_color(reduced_raw_data_list[rot_i][res_i][slice_index,:,:], reduced_mask_data_list[rot_i][res_i][slice_index,:,:]))\n",
    "    plt.colorbar()\n",
    "    plt.title(f'Slice {slice_index}')\n",
    "    plt.show()\n",
    "\n",
    "# Create a slider to browse through slices\n",
    "interact(plot_slice, slice_index=IntSlider(min=0, max=reduced_raw_data_list[rot_i][0].shape[0]-1, step=1, value=0), axis=IntSlider(min=0, max=2, step=1, value=0))"
   ]
  },
  {
   "cell_type": "code",
   "execution_count": 4,
   "metadata": {},
   "outputs": [],
   "source": [
    "# Helper functions that are annoying to move to a seperate file\n",
    "def calculate_seam_iter(directed_graph, src, tgt, weights, test_size, x_pos, y_pos, z_pos):\n",
    "    # Compute the residual capactiy of the edges\n",
    "    res = gt.boykov_kolmogorov_max_flow(directed_graph, src, tgt, weights) #time complexity: edges * vertices^2 * abs(min cut) \n",
    "    #use the residual graph to get the max flow\n",
    "    flow = sum(weights[e] - res[e] for e in tgt.in_edges())\n",
    "    # Determine the minimum cut partition\n",
    "    part = gt.min_st_cut(directed_graph, src, weights, res)\n",
    "\n",
    "    # Find the boundary vertices\n",
    "    boundary_vertices = find_boundary_vertices(np.array(directed_graph.get_edges()), part)\n",
    "    shape = (test_size, test_size, test_size)\n",
    "\n",
    "    # Convert the boundary vertices to a 3D array\n",
    "    boundary_array = boundary_vertices_to_array_masked(boundary_vertices, shape, 'x', x_pos, y_pos, z_pos)\n",
    "    \n",
    "    return boundary_array, flow\n",
    "\n",
    "def multi_res_seam_iter(res_index, mask_array_data, b_arr_up):\n",
    "    masked_array = mask_array_data[res_index].copy().astype(np.int16)\n",
    "    masked_array[b_arr_up == 0] = -1\n",
    "    stime= time.time()\n",
    "    directed_graph, src, tgt, weights, x_pos, y_pos, z_pos = create_masked_directed_energy_graph_from_mask(masked_array)\n",
    "    # print(f\"Time taken to create graph {res_index}:\", time.time()-stime)\n",
    "    boundary_array, flow = calculate_seam_iter(directed_graph, src, tgt, weights, masked_array.shape[0], x_pos, y_pos, z_pos)\n",
    "    return boundary_array\n",
    "\n",
    "def multi_res_seam_calculation(mask_array_data, res_index=3, upscale_factor=2, dilation_amount=1):\n",
    "    directed_graph, src, tgt, weights, x_pos, y_pos, z_pos = create_masked_directed_energy_graph_from_mask(mask_array_data[res_index])\n",
    "    boundary_array, flow = calculate_seam_iter(directed_graph, src, tgt, weights, mask_array_data[res_index].shape[0], x_pos, y_pos, z_pos)\n",
    "    b_arr_up = upscale_and_dilate_3d(boundary_array, upscale_factor=2, dilation_amount=dilation_amount)\n",
    "    for i in range(res_index-1, -1, -1):\n",
    "        boundary_array = multi_res_seam_iter(i, mask_array_data, b_arr_up)\n",
    "        if i != 0:\n",
    "            b_arr_up = upscale_and_dilate_3d(boundary_array, upscale_factor=upscale_factor, dilation_amount=dilation_amount)\n",
    "    return boundary_array"
   ]
  },
  {
   "cell_type": "code",
   "execution_count": 5,
   "metadata": {},
   "outputs": [],
   "source": [
    "def save_nrrd(mask_array_data, raw_array_data, filename, num_seams_removed, rot):\n",
    "    output_dir = os.path.join(os.getcwd(), 'output/densified_cubes')\n",
    "    os.makedirs(output_dir, exist_ok=True)\n",
    "    # Save mask_array_data[0] as NRRD with a timestamp\n",
    "    mask_nrrd_path = os.path.join(output_dir, f'{filename}_{num_seams_removed}_{rot}_densified_label.nrrd')\n",
    "    nrrd.write(mask_nrrd_path, mask_array_data[0])\n",
    "    print(f\"Saved mask_array_data[0] to {mask_nrrd_path}\")\n",
    "\n",
    "    # Save raw_array_data as NRRD with a timestamp\n",
    "    raw_nrrd_path = os.path.join(output_dir, f'{filename}_{num_seams_removed}_{rot}_densified_data.nrrd')\n",
    "    nrrd.write(raw_nrrd_path, raw_array_data)\n",
    "    print(f\"Saved raw_array_data to {raw_nrrd_path}\")"
   ]
  },
  {
   "cell_type": "code",
   "execution_count": 8,
   "metadata": {},
   "outputs": [],
   "source": [
    "# Define the function to be executed in parallel\n",
    "def process_data(k, reduced_mask_data_list, reduced_raw_data_list, filename, num_seams_to_remove=120, res_index=3, save_interval=20):\n",
    "    print(f\"Processing data for k={k}\")\n",
    "    mask_array_data = reduced_mask_data_list[k]\n",
    "    raw_array_data = reduced_raw_data_list[k][0]\n",
    "    boundary_arrays = []\n",
    "\n",
    "    for i in range(num_seams_to_remove):\n",
    "        stime = time.time()\n",
    "        boundary_array = multi_res_seam_calculation(mask_array_data, res_index, dilation_amount=1)\n",
    "        mask_array_data, raw_array_data = remove_voxels(mask_array_data[0], raw_array_data, boundary_array)\n",
    "        mask_array_data = coarsen_image(mask_array_data, res_index)\n",
    "        boundary_arrays.append(boundary_array)\n",
    "        print(f\"Time taken to calculate and remove seam {i} for k={k}:\", time.time() - stime)\n",
    "        if i !=0 and (i % save_interval == 0 or i == 76):\n",
    "            # timestamp = datetime.now().strftime(\"%Y%m%d_%H%M%S\")\n",
    "            # filename = f\"output_{k}_{i}_{timestamp}.nrrd\"\n",
    "            save_nrrd(mask_array_data, raw_array_data, filename, i, k % num_rotations)"
   ]
  },
  {
   "cell_type": "code",
   "execution_count": 10,
   "metadata": {},
   "outputs": [
    {
     "name": "stderr",
     "output_type": "stream",
     "text": [
      "Process SpawnProcess-4:\n",
      "Traceback (most recent call last):\n",
      "  File \"/Users/jamesdarby/anaconda3/envs/3d_sheet_carving/lib/python3.12/multiprocessing/process.py\", line 314, in _bootstrap\n",
      "    self.run()\n",
      "  File \"/Users/jamesdarby/anaconda3/envs/3d_sheet_carving/lib/python3.12/multiprocessing/process.py\", line 108, in run\n",
      "    self._target(*self._args, **self._kwargs)\n",
      "  File \"/Users/jamesdarby/anaconda3/envs/3d_sheet_carving/lib/python3.12/concurrent/futures/process.py\", line 251, in _process_worker\n",
      "    call_item = call_queue.get(block=True)\n",
      "                ^^^^^^^^^^^^^^^^^^^^^^^^^^\n",
      "  File \"/Users/jamesdarby/anaconda3/envs/3d_sheet_carving/lib/python3.12/multiprocessing/queues.py\", line 122, in get\n",
      "    return _ForkingPickler.loads(res)\n",
      "           ^^^^^^^^^^^^^^^^^^^^^^^^^^\n",
      "AttributeError: Can't get attribute 'process_data' on <module '__main__' (<class '_frozen_importlib.BuiltinImporter'>)>\n"
     ]
    },
    {
     "ename": "BrokenProcessPool",
     "evalue": "A process in the process pool was terminated abruptly while the future was running or pending.",
     "output_type": "error",
     "traceback": [
      "\u001b[0;31m---------------------------------------------------------------------------\u001b[0m",
      "\u001b[0;31mBrokenProcessPool\u001b[0m                         Traceback (most recent call last)",
      "Cell \u001b[0;32mIn[10], line 9\u001b[0m\n\u001b[1;32m      7\u001b[0m \u001b[38;5;66;03m# Wait for all futures to complete\u001b[39;00m\n\u001b[1;32m      8\u001b[0m \u001b[38;5;28;01mfor\u001b[39;00m future \u001b[38;5;129;01min\u001b[39;00m futures:\n\u001b[0;32m----> 9\u001b[0m     \u001b[43mfuture\u001b[49m\u001b[38;5;241;43m.\u001b[39;49m\u001b[43mresult\u001b[49m\u001b[43m(\u001b[49m\u001b[43m)\u001b[49m\n",
      "File \u001b[0;32m~/anaconda3/envs/3d_sheet_carving/lib/python3.12/concurrent/futures/_base.py:449\u001b[0m, in \u001b[0;36mFuture.result\u001b[0;34m(self, timeout)\u001b[0m\n\u001b[1;32m    447\u001b[0m     \u001b[38;5;28;01mraise\u001b[39;00m CancelledError()\n\u001b[1;32m    448\u001b[0m \u001b[38;5;28;01melif\u001b[39;00m \u001b[38;5;28mself\u001b[39m\u001b[38;5;241m.\u001b[39m_state \u001b[38;5;241m==\u001b[39m FINISHED:\n\u001b[0;32m--> 449\u001b[0m     \u001b[38;5;28;01mreturn\u001b[39;00m \u001b[38;5;28;43mself\u001b[39;49m\u001b[38;5;241;43m.\u001b[39;49m\u001b[43m__get_result\u001b[49m\u001b[43m(\u001b[49m\u001b[43m)\u001b[49m\n\u001b[1;32m    451\u001b[0m \u001b[38;5;28mself\u001b[39m\u001b[38;5;241m.\u001b[39m_condition\u001b[38;5;241m.\u001b[39mwait(timeout)\n\u001b[1;32m    453\u001b[0m \u001b[38;5;28;01mif\u001b[39;00m \u001b[38;5;28mself\u001b[39m\u001b[38;5;241m.\u001b[39m_state \u001b[38;5;129;01min\u001b[39;00m [CANCELLED, CANCELLED_AND_NOTIFIED]:\n",
      "File \u001b[0;32m~/anaconda3/envs/3d_sheet_carving/lib/python3.12/concurrent/futures/_base.py:401\u001b[0m, in \u001b[0;36mFuture.__get_result\u001b[0;34m(self)\u001b[0m\n\u001b[1;32m    399\u001b[0m \u001b[38;5;28;01mif\u001b[39;00m \u001b[38;5;28mself\u001b[39m\u001b[38;5;241m.\u001b[39m_exception:\n\u001b[1;32m    400\u001b[0m     \u001b[38;5;28;01mtry\u001b[39;00m:\n\u001b[0;32m--> 401\u001b[0m         \u001b[38;5;28;01mraise\u001b[39;00m \u001b[38;5;28mself\u001b[39m\u001b[38;5;241m.\u001b[39m_exception\n\u001b[1;32m    402\u001b[0m     \u001b[38;5;28;01mfinally\u001b[39;00m:\n\u001b[1;32m    403\u001b[0m         \u001b[38;5;66;03m# Break a reference cycle with the exception in self._exception\u001b[39;00m\n\u001b[1;32m    404\u001b[0m         \u001b[38;5;28mself\u001b[39m \u001b[38;5;241m=\u001b[39m \u001b[38;5;28;01mNone\u001b[39;00m\n",
      "\u001b[0;31mBrokenProcessPool\u001b[0m: A process in the process pool was terminated abruptly while the future was running or pending."
     ]
    }
   ],
   "source": [
    "# Parallel execution using ThreadPoolExecutor\n",
    "from concurrent.futures import ProcessPoolExecutor\n",
    "def main():\n",
    "    with ProcessPoolExecutor() as executor:\n",
    "        futures = [executor.submit(process_data, k, reduced_mask_data_list, reduced_raw_data_list) for k in range(len(reduced_mask_data_list))]\n",
    "\n",
    "    # Wait for all futures to complete\n",
    "    for future in futures:\n",
    "        future.result()\n",
    "\n",
    "if __name__ == '__main__':\n",
    "    main()"
   ]
  },
  {
   "cell_type": "code",
   "execution_count": 11,
   "metadata": {},
   "outputs": [
    {
     "name": "stdout",
     "output_type": "stream",
     "text": [
      "Time taken to calculate and remove seam 0: 20.845386028289795\n",
      "Time taken to calculate and remove seam 1: 20.649846076965332\n",
      "Time taken to calculate and remove seam 2: 20.21210479736328\n",
      "Time taken to calculate and remove seam 3: 19.936538219451904\n",
      "Time taken to calculate and remove seam 4: 20.254873991012573\n",
      "Time taken to calculate and remove seam 5: 20.076255083084106\n",
      "Time taken to calculate and remove seam 6: 20.236415147781372\n",
      "Time taken to calculate and remove seam 7: 20.147073984146118\n",
      "Time taken to calculate and remove seam 8: 20.458027124404907\n",
      "Time taken to calculate and remove seam 9: 20.3747079372406\n",
      "Time taken to calculate and remove seam 10: 19.99093222618103\n",
      "Time taken to calculate and remove seam 11: 19.889456033706665\n",
      "Time taken to calculate and remove seam 12: 20.220655918121338\n",
      "Time taken to calculate and remove seam 13: 20.198872804641724\n",
      "Time taken to calculate and remove seam 14: 19.854634046554565\n",
      "Time taken to calculate and remove seam 15: 19.98770570755005\n",
      "Time taken to calculate and remove seam 16: 20.242154121398926\n",
      "Time taken to calculate and remove seam 17: 20.29181432723999\n",
      "Time taken to calculate and remove seam 18: 20.1586492061615\n",
      "Time taken to calculate and remove seam 19: 20.078321933746338\n",
      "Time taken to calculate and remove seam 20: 19.85378408432007\n",
      "Time taken to calculate and remove seam 21: 20.13716721534729\n",
      "Time taken to calculate and remove seam 22: 19.993773937225342\n",
      "Time taken to calculate and remove seam 23: 20.355756998062134\n",
      "Time taken to calculate and remove seam 24: 20.02821922302246\n",
      "Time taken to calculate and remove seam 25: 20.195226907730103\n",
      "Time taken to calculate and remove seam 26: 20.019217014312744\n",
      "Time taken to calculate and remove seam 27: 20.34448003768921\n",
      "Time taken to calculate and remove seam 28: 20.21271300315857\n",
      "Time taken to calculate and remove seam 29: 20.039556980133057\n",
      "Time taken to calculate and remove seam 30: 20.370131015777588\n",
      "Time taken to calculate and remove seam 31: 19.946895122528076\n",
      "Time taken to calculate and remove seam 32: 19.870803833007812\n",
      "Time taken to calculate and remove seam 33: 19.879559755325317\n",
      "Time taken to calculate and remove seam 34: 19.993154048919678\n",
      "Time taken to calculate and remove seam 35: 19.596154928207397\n",
      "Time taken to calculate and remove seam 36: 19.930236101150513\n",
      "Time taken to calculate and remove seam 37: 19.96018695831299\n",
      "Time taken to calculate and remove seam 38: 19.51901412010193\n",
      "Time taken to calculate and remove seam 39: 19.5870041847229\n",
      "Time taken to calculate and remove seam 40: 20.109289169311523\n",
      "Time taken to calculate and remove seam 41: 19.84785795211792\n",
      "Time taken to calculate and remove seam 42: 19.814584732055664\n",
      "Time taken to calculate and remove seam 43: 20.00317096710205\n",
      "Time taken to calculate and remove seam 44: 19.432088136672974\n",
      "Time taken to calculate and remove seam 45: 19.55093216896057\n",
      "Time taken to calculate and remove seam 46: 20.614301204681396\n"
     ]
    }
   ],
   "source": [
    "for k in range(len(reduced_mask_data_list)):\n",
    "    res_index = 3 #res index to start at, higher values are lower res, and thus should be faster\n",
    "    mask_array_data = reduced_mask_data_list[i]\n",
    "    raw_array_data = reduced_raw_data_list[i][0]\n",
    "    num_seams_to_remove = 120 #76 to hit the 180 vram limit -> mixed precision could increase this\n",
    "    boundary_arrays = []\n",
    "    save_interval = 20\n",
    "\n",
    "    for i in range(num_seams_to_remove):\n",
    "        stime = time.time()\n",
    "        boundary_array = multi_res_seam_calculation(mask_array_data, res_index, dilation_amount=1)\n",
    "        mask_array_data, raw_array_data = remove_voxels(mask_array_data[0], raw_array_data, boundary_array)\n",
    "        mask_array_data = coarsen_image(mask_array_data, res_index)\n",
    "        boundary_arrays.append(boundary_array)\n",
    "        print(f\"Time taken to calculate and remove seam {i}:\", time.time()-stime)\n",
    "        if i % save_interval == 0 or i == 76:\n",
    "            save_nrrd(mask_array_data, raw_array_data, filename, i, k%num_rotations)"
   ]
  },
  {
   "cell_type": "code",
   "execution_count": null,
   "metadata": {},
   "outputs": [
    {
     "name": "stdout",
     "output_type": "stream",
     "text": [
      "Saved mask_array_data[0] to /Users/jamesdarby/Documents/VesuviusScroll/GP/3D_sheet_carving/output/densified_cubes/densified_label_20240606_214137.nrrd\n",
      "Saved raw_array_data to /Users/jamesdarby/Documents/VesuviusScroll/GP/3D_sheet_carving/output/densified_cubes/densified_data_20240606_214137.nrrd\n"
     ]
    }
   ],
   "source": [
    "#save results\n",
    "# Create output directory if it doesn't exist\n",
    "output_dir = os.path.join(os.getcwd(), 'output/densified_cubes')\n",
    "os.makedirs(output_dir, exist_ok=True)\n",
    "\n",
    "# Save mask_array_data[0] as NRRD with a timestamp\n",
    "mask_nrrd_path = os.path.join(output_dir, f'{filename}_{num_seams_to_remove}_densified_label.nrrd')\n",
    "nrrd.write(mask_nrrd_path, mask_array_data[0])\n",
    "print(f\"Saved mask_array_data[0] to {mask_nrrd_path}\")\n",
    "\n",
    "# Save raw_array_data as NRRD with a timestamp\n",
    "raw_nrrd_path = os.path.join(output_dir, f'{filename}_{num_seams_to_remove}_densified_data.nrrd')\n",
    "nrrd.write(raw_nrrd_path, raw_array_data)\n",
    "print(f\"Saved raw_array_data to {raw_nrrd_path}\")"
   ]
  },
  {
   "cell_type": "code",
   "execution_count": null,
   "metadata": {},
   "outputs": [
    {
     "data": {
      "application/vnd.jupyter.widget-view+json": {
       "model_id": "cc0c571e24044efabac27c44b8f6b368",
       "version_major": 2,
       "version_minor": 0
      },
      "text/plain": [
       "interactive(children=(IntSlider(value=0, description='slice_index', max=255), IntSlider(value=0, description='…"
      ]
     },
     "metadata": {},
     "output_type": "display_data"
    },
    {
     "data": {
      "text/plain": [
       "<function __main__.plot_slice(slice_index, axis=0)>"
      ]
     },
     "execution_count": 6,
     "metadata": {},
     "output_type": "execute_result"
    }
   ],
   "source": [
    "#plot results\n",
    "res_i = 0\n",
    "def plot_slice(slice_index, axis=0):\n",
    "    plt.figure(figsize=(8, 6))\n",
    "    if axis == 1:\n",
    "        plt.imshow(mark_boundaries_color(raw_array_data[:,slice_index,:], mask_array_data[res_i][:,slice_index,:]))\n",
    "    elif axis == 2:\n",
    "        plt.imshow(mark_boundaries_color(raw_array_data[:,:,slice_index], mask_array_data[res_i][:,:,slice_index]))\n",
    "    else:\n",
    "        plt.imshow(mark_boundaries_color(raw_array_data[slice_index,:,:], mask_array_data[res_i][slice_index,:,:]))\n",
    "    plt.colorbar()\n",
    "    plt.title(f'Slice {slice_index}')\n",
    "    plt.show()\n",
    "\n",
    "# Create a slider to browse through slices\n",
    "interact(plot_slice, slice_index=IntSlider(min=0, max=raw_array_data.shape[0]-1, step=1, value=0), axis=IntSlider(min=0, max=2, step=1, value=0))"
   ]
  }
 ],
 "metadata": {
  "kernelspec": {
   "display_name": "3d_sheet_carving",
   "language": "python",
   "name": "python3"
  },
  "language_info": {
   "codemirror_mode": {
    "name": "ipython",
    "version": 3
   },
   "file_extension": ".py",
   "mimetype": "text/x-python",
   "name": "python",
   "nbconvert_exporter": "python",
   "pygments_lexer": "ipython3",
   "version": "3.12.3"
  }
 },
 "nbformat": 4,
 "nbformat_minor": 2
}
